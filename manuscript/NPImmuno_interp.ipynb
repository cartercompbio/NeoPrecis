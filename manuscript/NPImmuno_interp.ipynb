{
 "cells": [
  {
   "cell_type": "markdown",
   "id": "e9d639f8-c517-437a-9c9a-56b71a9905c6",
   "metadata": {},
   "source": [
    "## Model Interpretation of NeoPrecis-Immuno\n",
    "\n",
    "This notebook is for model interpretation. \n",
    "\n",
    "The results are shown in Figure 3."
   ]
  },
  {
   "cell_type": "code",
   "execution_count": null,
   "id": "be48c2bb-93c8-4b90-8647-b49d4d3a19d3",
   "metadata": {},
   "outputs": [],
   "source": [
    "from imm_utils import *"
   ]
  },
  {
   "cell_type": "code",
   "execution_count": null,
   "id": "91e3bffd-3ddc-456a-9f0e-762aba952289",
   "metadata": {},
   "outputs": [],
   "source": [
    "### path\n",
    "\n",
    "ref_file = '../src/CRD/ref.h5'\n",
    "ckpt_file = '../src/CRD/PeptCRD_checkpoint.ckpt'"
   ]
  },
  {
   "cell_type": "code",
   "execution_count": null,
   "id": "b3504c80-c990-4c53-b934-4d4cf634d31c",
   "metadata": {},
   "outputs": [],
   "source": [
    "### model interpretation object\n",
    "\n",
    "MI = ModelInterpretation(ref_file, ckpt_file)\n",
    "\n",
    "# anchor mapping\n",
    "MI.BuildAnchorMapping() # anchor_pos_series, anchor_residue_dict\n",
    "\n",
    "# motif enrichment\n",
    "MI.MotifEnrichmentInterpretation() # enrich_embs, enrich_emb_affine_matrices, enrich_emb_max_changed_axes\n",
    "\n",
    "# allele annotation\n",
    "MI.AlleleSummarization() # allele_pos_annot_df, allele_annot_df"
   ]
  },
  {
   "cell_type": "markdown",
   "id": "0d401a56-b6c2-467c-8e42-83c2743c536b",
   "metadata": {},
   "source": [
    "### Embedding"
   ]
  },
  {
   "cell_type": "markdown",
   "id": "257d2243-874d-46e6-b350-f59afe632d84",
   "metadata": {},
   "source": [
    "#### Residue embedding¶\n",
    "- BLOSUM62\n",
    "- Sub. embedding\n",
    "- Sub. + motif enrichment"
   ]
  },
  {
   "cell_type": "code",
   "execution_count": null,
   "id": "31f4b1ca-f7b8-421d-8e08-b5dceca251fb",
   "metadata": {},
   "outputs": [],
   "source": [
    "### embedding df\n",
    "\n",
    "# example\n",
    "allele = 'B*40:01'\n",
    "pos = 2\n",
    "motif_idx = MI.ref_allele_list.index(allele)\n",
    "\n",
    "# BLOSUM62\n",
    "blosum_emb = MI.ref_aa_pc2_encode[:20,:]\n",
    "blosum_emb_df = pd.DataFrame(blosum_emb, index=MI.ref_aa_list[:20], columns=['emb1', 'emb2'])\n",
    "\n",
    "# Model: sub.\n",
    "sub_emb_df = MI.aa_emb_df\n",
    "\n",
    "# Model: sub. with motif enrichment\n",
    "enrich_emb = MI.enrich_embs[motif_idx, pos-1, :20, :] # pos -> pos_index\n",
    "enrich_emb_df = pd.DataFrame(enrich_emb, index=MI.ref_aa_list[:20], columns=['emb1', 'emb2'])\n",
    "\n",
    "# affine transformation\n",
    "affine_matrix = MI.enrich_emb_affine_matrices[motif_idx, pos-1]\n",
    "affine_intp = MI._affine_interpretation(affine_matrix)\n",
    "print(affine_intp)"
   ]
  },
  {
   "cell_type": "code",
   "execution_count": null,
   "id": "ec49faa1-4ffe-4a13-bf88-3ad6a9505878",
   "metadata": {},
   "outputs": [],
   "source": [
    "### embedding plot\n",
    "\n",
    "fig, ax = plt.subplots(1, 3, figsize=(10, 3), dpi=dpi)\n",
    "\n",
    "EmbeddingPlot(blosum_emb_df, ax=ax[0])\n",
    "EmbeddingPlot(sub_emb_df, ax=ax[1])\n",
    "EmbeddingPlot(enrich_emb_df, ax=ax[2])\n",
    "\n",
    "# axis\n",
    "ax[0].set_xlabel('')\n",
    "ax[2].set_xlabel('')\n",
    "ax[1].set_ylabel('')\n",
    "ax[2].set_ylabel('')\n",
    "\n",
    "# legend\n",
    "ax[0].get_legend().remove()\n",
    "ax[1].get_legend().remove()\n",
    "sns.move_legend(ax[2], loc='lower left', bbox_to_anchor=(1, 0.1))\n",
    "\n",
    "# title\n",
    "ax[0].set_title('BLOSUM62')\n",
    "ax[1].set_title('NP-Immuno - residue')\n",
    "ax[2].set_title('NP-Immuno - residue + motif')\n",
    "\n",
    "fig.tight_layout()"
   ]
  },
  {
   "cell_type": "markdown",
   "id": "5a4a39f4-7341-47c0-ab02-033d85a07d2a",
   "metadata": {},
   "source": [
    "#### Positional embedding"
   ]
  },
  {
   "cell_type": "code",
   "execution_count": null,
   "id": "632f1ec2-20cd-41a7-ba5f-be1dfd0ec249",
   "metadata": {},
   "outputs": [],
   "source": [
    "# position factors\n",
    "plot_df = pd.DataFrame(index=list(range(1, 10)))\n",
    "plot_df['MHC-I'] = MI.mhci_pos_facs\n",
    "plot_df['MHC-II'] = MI.mhcii_pos_facs\n",
    "plot_df = plot_df.reset_index(names='Position')\n",
    "plot_df = plot_df.melt(id_vars=['Position'], var_name='MHC', value_name='Factor')\n",
    "\n",
    "# plot\n",
    "fig, ax = plt.subplots(1, 1, figsize=(4,3), dpi=dpi)\n",
    "sns.lineplot(data=plot_df, x='Position', y='Factor', hue='MHC', ax=ax)\n",
    "ax.legend(loc='lower left', bbox_to_anchor=(0, 1), ncol=2)\n",
    "_ = ax.set_xticks(range(1, 10))\n",
    "fig.tight_layout()"
   ]
  },
  {
   "cell_type": "markdown",
   "id": "153179fc-e166-452a-9a8b-05d31817b8d0",
   "metadata": {},
   "source": [
    "#### Affine transformation\n",
    "- Used for motif-enriched embedding\n",
    "- Transform sub. embedding to motif-enriched embedding"
   ]
  },
  {
   "cell_type": "code",
   "execution_count": null,
   "id": "71e7e069-f5ff-48c4-906d-a8f9126aad94",
   "metadata": {},
   "outputs": [],
   "source": [
    "# example\n",
    "allele = 'B*07:02'\n",
    "pos = 2\n",
    "motif_idx = MI.ref_allele_list.index(allele)\n",
    "\n",
    "# embedding\n",
    "sub_emb = MI.aa_emb_df.to_numpy()\n",
    "enrich_emb = MI.enrich_embs[motif_idx, pos-1, :20, :]\n",
    "\n",
    "# reconstruction from residue embedding\n",
    "affine_matrix = MI.enrich_emb_affine_matrices[motif_idx, pos-1]\n",
    "A = affine_matrix[:, :2]\n",
    "t = affine_matrix[:, 2]\n",
    "recon_emb = sub_emb @ A.T + t"
   ]
  },
  {
   "cell_type": "code",
   "execution_count": null,
   "id": "e23b884a-821a-4c7e-89e8-55fd8193ee96",
   "metadata": {},
   "outputs": [],
   "source": [
    "### embedding plot\n",
    "\n",
    "# embedding df\n",
    "sub_emb_df = MI.aa_emb_df\n",
    "enrich_emb_df = pd.DataFrame(enrich_emb, index=MI.ref_aa_list[:20], columns=['emb1', 'emb2'])\n",
    "recon_emb_df = pd.DataFrame(recon_emb, index=MI.ref_aa_list[:20], columns=['emb1', 'emb2'])\n",
    "\n",
    "# fig\n",
    "fig, ax = plt.subplots(1, 3, figsize=(10, 3.5), dpi=dpi)\n",
    "\n",
    "EmbeddingPlot(sub_emb_df, ax=ax[0])\n",
    "EmbeddingPlot(enrich_emb_df, ax=ax[1])\n",
    "EmbeddingPlot(recon_emb_df, ax=ax[2])\n",
    "\n",
    "# axis\n",
    "ax[0].set_xlabel('')\n",
    "ax[2].set_xlabel('')\n",
    "ax[1].set_ylabel('')\n",
    "ax[2].set_ylabel('')\n",
    "\n",
    "# legend\n",
    "ax[0].get_legend().remove()\n",
    "ax[1].get_legend().remove()\n",
    "sns.move_legend(ax[2], loc='lower left', bbox_to_anchor=(1, 0.1))\n",
    "\n",
    "# title\n",
    "ax[0].set_title('Residue')\n",
    "ax[1].set_title('Enriched')\n",
    "ax[2].set_title('Reconstructed')\n",
    "\n",
    "fig.suptitle(f'{allele}_{pos}')\n",
    "fig.tight_layout()"
   ]
  },
  {
   "cell_type": "markdown",
   "id": "fdcd0c2e-1e92-483a-a427-8970bd3ee52d",
   "metadata": {},
   "source": [
    "### Motif enrichment"
   ]
  },
  {
   "cell_type": "markdown",
   "id": "fd8011ac-abfb-4aae-879f-dbfd14561f90",
   "metadata": {},
   "source": [
    "#### Scaling"
   ]
  },
  {
   "cell_type": "code",
   "execution_count": null,
   "id": "ead8b36d-4536-4ede-a913-6a73e2d19bb3",
   "metadata": {},
   "outputs": [],
   "source": [
    "# plot df\n",
    "plot_df = MI.allele_pos_annot_df.reset_index()\n",
    "plot_df['position'] = plot_df['position'].astype(str)\n",
    "\n",
    "# fig\n",
    "fig, ax = plt.subplots(1, 1, figsize=(7,3), dpi=dpi)\n",
    "sns.scatterplot(data=plot_df, x='emb1_scaling', y='emb2_scaling', hue='group', palette=aa_color_map, style='residue', ax=ax)\n",
    "\n",
    "# legend\n",
    "handles, labels = ax.get_legend_handles_labels()\n",
    "unique_hue_labels = plot_df['group'].unique()\n",
    "\n",
    "# Extract handles and labels for the style legend\n",
    "color_handles = handles[2:len(unique_hue_labels)+1]\n",
    "color_labels = labels[2:len(unique_hue_labels)+1]\n",
    "style_handles = handles[len(unique_hue_labels)+2:]\n",
    "style_labels = labels[len(unique_hue_labels)+2:]\n",
    "\n",
    "# Add the color legend\n",
    "color_legend = ax.legend(\n",
    "    handles=color_handles,\n",
    "    labels=color_labels,\n",
    "    loc='upper left',\n",
    "    bbox_to_anchor=(1, 1),  # Position to avoid overlap\n",
    "    ncol=2\n",
    ")\n",
    "\n",
    "# Add the style legend to the ax\n",
    "style_legend = ax.legend(\n",
    "    handles=style_handles,\n",
    "    labels=style_labels,\n",
    "    loc='upper left',  # Position for the style legend\n",
    "    bbox_to_anchor=(1, 0.55),\n",
    "    ncol=3,\n",
    ")\n",
    "\n",
    "ax.add_artist(color_legend)  # Add the color legend first\n",
    "\n",
    "ax.set_title('Motif enrichment - scaling factors')\n",
    "fig.tight_layout()"
   ]
  },
  {
   "cell_type": "markdown",
   "id": "05027380-46e1-46c7-a289-19bc439077d4",
   "metadata": {},
   "source": [
    "#### Allele benefit score"
   ]
  },
  {
   "cell_type": "code",
   "execution_count": null,
   "id": "f2fbd174-bc54-4459-aa04-9a3b11bc0811",
   "metadata": {},
   "outputs": [],
   "source": [
    "# plot df\n",
    "plot_df = MI.allele_annot_df.reset_index()\n",
    "plot_df = plot_df.dropna()\n",
    "plot_df['MHC'] = plot_df['allele'].apply(lambda x: 'II' if x.startswith('D') else 'I')\n",
    "\n",
    "# order\n",
    "orders = plot_df.groupby(['MHC', 'residue'])['benefitScore'].mean().unstack().T.fillna(0).sort_values(by=['I','II'], ascending=False).index.tolist()\n",
    "\n",
    "# residue color\n",
    "colors = [aa_color_map[aa_dict[aa]] for aa in orders]\n",
    "\n",
    "# plot\n",
    "fig, ax = plt.subplots(1, 1, figsize=(10, 3), dpi=dpi)\n",
    "sns.barplot(data=plot_df, x='residue', y='benefitScore', hue='MHC', order=orders, palette='muted', ax=ax)\n",
    "for label, color in zip(ax.get_xticklabels(), colors):\n",
    "    label.set_color(color)\n",
    "sns.move_legend(ax, 'center left', bbox_to_anchor=(1, 0.5))\n",
    "ax.set_xlabel('')\n",
    "fig.tight_layout()"
   ]
  }
 ],
 "metadata": {
  "kernelspec": {
   "display_name": "Python 3 (ipykernel)",
   "language": "python",
   "name": "python3"
  },
  "language_info": {
   "codemirror_mode": {
    "name": "ipython",
    "version": 3
   },
   "file_extension": ".py",
   "mimetype": "text/x-python",
   "name": "python",
   "nbconvert_exporter": "python",
   "pygments_lexer": "ipython3",
   "version": "3.12.11"
  }
 },
 "nbformat": 4,
 "nbformat_minor": 5
}
