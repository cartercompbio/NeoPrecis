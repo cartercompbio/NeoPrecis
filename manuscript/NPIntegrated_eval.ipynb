{
 "cells": [
  {
   "cell_type": "markdown",
   "id": "0e096852-4b90-4ca1-b70f-c5362df87cf8",
   "metadata": {},
   "source": [
    "# Model Evaluation of NeoPrecis-Integrated\n",
    "\n",
    "This notebook is for evaluating the integration of multi-dimensional metrics. \n",
    "\n",
    "The data is presented in Table S3, and the results are shown in Figure 4."
   ]
  },
  {
   "cell_type": "code",
   "execution_count": null,
   "id": "cd51c446-5c2d-400d-a7e2-844fcc5cc1cf",
   "metadata": {},
   "outputs": [],
   "source": [
    "from nci_utils import *\n",
    "\n",
    "dpi = 600"
   ]
  },
  {
   "cell_type": "markdown",
   "id": "ee472973-b28a-4214-baad-12d74f12c2bc",
   "metadata": {},
   "source": [
    "### Data"
   ]
  },
  {
   "cell_type": "code",
   "execution_count": null,
   "id": "1750b346-e654-48fd-b99f-bcb3328e64c0",
   "metadata": {},
   "outputs": [],
   "source": [
    "### function\n",
    "\n",
    "def BuildDataset(file,\n",
    "                 abundance_features,\n",
    "                 presentation_features,\n",
    "                 recognition_features,\n",
    "                 sample_col='Patient',\n",
    "                 index_cols=['Patient', 'Mutation_Index', 'Mutation_ID'],\n",
    "                 missense_name='missense_variant'):\n",
    "    \n",
    "    df = pd.read_csv(file)\n",
    "\n",
    "    ### filtering\n",
    "    print('#Mutations')\n",
    "    print(f'Before filtering: {df.shape[0]}')\n",
    "    print(f'#CD8: {(df[\"CD8\"]==1).sum()}')\n",
    "    print(f'#CD4: {(df[\"CD4\"]==1).sum()}')\n",
    "    # substitution mutations\n",
    "    df = df[df['Consequence']==missense_name]\n",
    "    print(f'Drop non-SNVs: {df.shape[0]}')\n",
    "    print(f'#CD8: {(df[\"CD8\"]==1).sum()}')\n",
    "    print(f'#CD4: {(df[\"CD4\"]==1).sum()}')\n",
    "\n",
    "    # normalization\n",
    "    #df['PHBR-I'] = -np.log((df['PHBR-I']+1e-3)/100)\n",
    "    #df['PHBR-II'] = -np.log((df['PHBR-II']+1e-3)/100)\n",
    "    df['PHBR-I'] = 1 - df['PHBR-I']/100\n",
    "    df['PHBR-II'] = 1 - df['PHBR-II']/100\n",
    "    \n",
    "    ### data object\n",
    "    data = NeoAgData(\n",
    "        df,\n",
    "        sample_col=sample_col, # individual ID\n",
    "        index_cols=index_cols, # unique neoantigen\n",
    "        abundance_features=abundance_features,\n",
    "        presentation_features=presentation_features,\n",
    "        recognition_features=recognition_features,\n",
    "    )\n",
    "\n",
    "    return data"
   ]
  },
  {
   "cell_type": "code",
   "execution_count": null,
   "id": "d3eac3b8-1c0b-4463-8b5c-d75f3981ecd6",
   "metadata": {},
   "outputs": [],
   "source": [
    "### loading\n",
    "\n",
    "# features\n",
    "abundance_features = ['DNA_AF', 'RNA_AF', 'RNA_EXP_QRT']\n",
    "presentation_features = ['PHBR']\n",
    "recognition_features = ['NP-Immuno']\n",
    "\n",
    "# dataset obj\n",
    "nci_file = 'TableS3.csv' # fill in the path of TableS3.csv\n",
    "nci_data = BuildDataset(nci_file, abundance_features, presentation_features, recognition_features)"
   ]
  },
  {
   "cell_type": "code",
   "execution_count": null,
   "id": "20caef01-8776-4a4d-b55b-b97d7b9aea7d",
   "metadata": {},
   "outputs": [],
   "source": [
    "### tasks\n",
    "\n",
    "mhci_task_dict = OrderedDict({\n",
    "    'CD8-A': {'label':'CD8', 'feature_group':['abundance']},\n",
    "    'CD8-P1': {'label':'CD8', 'feature_group':['presentation-I']},\n",
    "    'CD8-R1': {'label':'CD8', 'feature_group':['recognition-I']},\n",
    "    'CD8-P1+R1': {'label':'CD8', 'feature_group':['presentation-I', 'recognition-I']},\n",
    "    'CD8-A+P1': {'label':'CD8', 'feature_group':['abundance', 'presentation-I']},\n",
    "    'CD8-A+R1': {'label':'CD8', 'feature_group':['abundance', 'recognition-I']},\n",
    "    'CD8-A+P1+R1': {'label':'CD8', 'feature_group':['abundance', 'presentation-I', 'recognition-I']},\n",
    "})\n",
    "\n",
    "mhcii_task_dict = OrderedDict({\n",
    "    'CD4-A': {'label':'CD4', 'feature_group':['abundance']},\n",
    "    'CD4-P2': {'label':'CD4', 'feature_group':['presentation-II']},\n",
    "    'CD4-R2': {'label':'CD4', 'feature_group':['recognition-II']},\n",
    "    'CD4-P2+R2': {'label':'CD4', 'feature_group':['presentation-II', 'recognition-II']},\n",
    "    'CD4-A+P2': {'label':'CD4', 'feature_group':['abundance', 'presentation-II']},\n",
    "    'CD4-A+R2': {'label':'CD4', 'feature_group':['abundance', 'recognition-II']},\n",
    "    'CD4-A+P2+R2': {'label':'CD4', 'feature_group':['abundance', 'presentation-II', 'recognition-II']},\n",
    "})"
   ]
  },
  {
   "cell_type": "markdown",
   "id": "47a52772-20cd-42a5-a792-1d335832875c",
   "metadata": {},
   "source": [
    "### Cross validation"
   ]
  },
  {
   "cell_type": "code",
   "execution_count": null,
   "id": "dde2ff68-9c40-41d6-8538-04c28075081e",
   "metadata": {},
   "outputs": [],
   "source": [
    "### setting\n",
    "\n",
    "n_fold = 4\n",
    "n_exp = 100\n",
    "model = LogisticRegression()"
   ]
  },
  {
   "cell_type": "code",
   "execution_count": null,
   "id": "f468abde-7373-4512-9b0b-193d9b166f82",
   "metadata": {
    "scrolled": true
   },
   "outputs": [],
   "source": [
    "### MHC-I : CD8\n",
    "\n",
    "# CV\n",
    "CV = CrossValidation(nci_data, model, importance=False)\n",
    "mhci_cv_perf_df, mhci_cv_imp_df = CV(mhci_task_dict, n_fold=n_fold, n_exp=n_exp, normalized=True)\n",
    "\n",
    "# plot\n",
    "mhci_tasks = list(mhci_task_dict.keys())\n",
    "CV.eval._performance_plot(mhci_cv_perf_df, mhci_tasks)"
   ]
  },
  {
   "cell_type": "code",
   "execution_count": null,
   "id": "8c7766fd-4524-4c2d-8b7a-20d951786ced",
   "metadata": {
    "scrolled": true
   },
   "outputs": [],
   "source": [
    "### MHC-II : CD4\n",
    "\n",
    "# CV\n",
    "CV = CrossValidation(nci_data, model, importance=False)\n",
    "mhcii_cv_perf_df, mhcii_cv_imp_df = CV(mhcii_task_dict, n_fold=n_fold, n_exp=n_exp, normalized=True)\n",
    "\n",
    "# plot\n",
    "mhcii_tasks = list(mhcii_task_dict.keys())\n",
    "CV.eval._performance_plot(mhcii_cv_perf_df, mhcii_tasks)"
   ]
  },
  {
   "cell_type": "code",
   "execution_count": null,
   "id": "21a05232-1448-4784-b68a-0c46c5b12dc1",
   "metadata": {},
   "outputs": [],
   "source": [
    "### comparison plot\n",
    "mhci_cv_perf_df['MHC'] = 'MHC-I'\n",
    "mhcii_cv_perf_df['MHC'] = 'MHC-II'\n",
    "cv_perf_df = pd.concat([mhci_cv_perf_df, mhcii_cv_perf_df], axis=0, ignore_index=True)\n",
    "cv_perf_df['features'] = cv_perf_df['task'].apply(lambda x: x.split('-')[1].replace('1', '').replace('2', ''))\n",
    "\n",
    "hue_order = ['P','R','A','P+R','A+P','A+R','A+P+R']\n",
    "\n",
    "# AUROC\n",
    "for metric in ['AUROC', 'AUPRC']:\n",
    "    fig, ax = plt.subplots(1, 1, figsize=(6, 3), dpi=dpi)\n",
    "    sns.barplot(data=cv_perf_df, x='MHC', y=metric, hue='features', hue_order=hue_order, palette='pastel', ax=ax)\n",
    "    ax.legend(loc='lower left', bbox_to_anchor=(1, 0))\n",
    "    ax.set_xlabel('')\n",
    "    fig.tight_layout()"
   ]
  },
  {
   "cell_type": "markdown",
   "id": "e924a689-6aa5-41a3-954a-c3eeaf7cb404",
   "metadata": {},
   "source": [
    "### Feature importance"
   ]
  },
  {
   "cell_type": "code",
   "execution_count": null,
   "id": "953d0f97-5958-4f5e-bec5-55041060d584",
   "metadata": {},
   "outputs": [],
   "source": [
    "### model coef\n",
    "\n",
    "model = LogisticRegression()\n",
    "metric_list = ['DNA_AF', 'RNA_AF', 'RNA_EXP_QRT', 'PHBR', 'Immgen']\n",
    "imp_df = pd.DataFrame(index=metric_list)\n",
    "\n",
    "info_dict = {'I': 'CD8', 'II': 'CD4'}\n",
    "for mhc, label in info_dict.items():\n",
    "    x, y = nci_data.GetData(label, feature_groups=['abundance', f'presentation-{mhc}', f'recognition-{mhc}'])\n",
    "    mean_arr = x.mean(axis=0)\n",
    "    std_arr = x.std(axis=0)\n",
    "    x_norm = (x - mean_arr) / std_arr\n",
    "    model.fit(x_norm,y)\n",
    "    imp_df[f'MHC-{mhc}'] = model.coef_[0]"
   ]
  },
  {
   "cell_type": "code",
   "execution_count": null,
   "id": "260f9e18-e19f-4504-8f40-27787802bef5",
   "metadata": {},
   "outputs": [],
   "source": [
    "### plot\n",
    "\n",
    "plot_df = imp_df.reset_index(names=['Metric'])\n",
    "plot_df = plot_df.melt(id_vars='Metric', var_name='MHC', value_name='Coefficient')\n",
    "plot_df['Metric'] = plot_df['Metric'].replace('Immgen', 'NP-Immuno')\n",
    "\n",
    "fig, ax = plt.subplots(1, 1, figsize=(4, 3), dpi=dpi)\n",
    "sns.barplot(data=plot_df, x='Coefficient', y='Metric', hue='MHC', palette='pastel', ax=ax)\n",
    "ax.set_ylabel('')\n",
    "fig.tight_layout()"
   ]
  }
 ],
 "metadata": {
  "kernelspec": {
   "display_name": "Python 3 (ipykernel)",
   "language": "python",
   "name": "python3"
  },
  "language_info": {
   "codemirror_mode": {
    "name": "ipython",
    "version": 3
   },
   "file_extension": ".py",
   "mimetype": "text/x-python",
   "name": "python",
   "nbconvert_exporter": "python",
   "pygments_lexer": "ipython3",
   "version": "3.12.11"
  }
 },
 "nbformat": 4,
 "nbformat_minor": 5
}
