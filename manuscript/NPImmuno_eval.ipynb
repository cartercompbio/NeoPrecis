{
 "cells": [
  {
   "cell_type": "markdown",
   "id": "7e06989f-ff47-4de2-9082-2834f5d12648",
   "metadata": {},
   "source": [
    "# Model Evaluation of NeoPrecis-Immuno\n",
    "\n",
    "This notebook is for evaluating immunogenicity prediction. \n",
    "\n",
    "The data is presented in Table S2-3, and the results are shown in Figure 2-3."
   ]
  },
  {
   "cell_type": "code",
   "execution_count": null,
   "id": "4ce86dac-c5eb-45df-a0d3-37b6afc96502",
   "metadata": {},
   "outputs": [],
   "source": [
    "from imm_utils import *\n",
    "\n",
    "# model color map\n",
    "models = ['NP-Immuno', 'NetMHCpan', 'DeepNeo', 'PRIME', 'ICERFIRE']\n",
    "metric_color_dict = {models[i]: sns.color_palette('pastel')[i] for i in range(len(models))}\n",
    "metric_color_dict['PHBR'] = metric_color_dict['NetMHCpan']\n",
    "metric_color_dict['NetMHCIIpan'] = metric_color_dict['NetMHCpan']"
   ]
  },
  {
   "cell_type": "markdown",
   "id": "88912005-6d9f-478a-83d5-2a74dda2b737",
   "metadata": {},
   "source": [
    "### Validation on the CEDAR immunogenicity dataset"
   ]
  },
  {
   "cell_type": "code",
   "execution_count": null,
   "id": "b6a2fde2-6e2a-4127-9941-75ea1fba50f7",
   "metadata": {},
   "outputs": [],
   "source": [
    "# loading CEDAR data\n",
    "\n",
    "cedar_file = 'TableS2.csv' # fill in the path of TableS2.csv\n",
    "cedar_df = pd.read_csv(cedar_file)"
   ]
  },
  {
   "cell_type": "code",
   "execution_count": null,
   "id": "5af46722-6a58-4a22-abe0-778dfc9d09c1",
   "metadata": {},
   "outputs": [],
   "source": [
    "# evaluation with bootstrapping (only MHC-I)\n",
    "\n",
    "x_col_dict = {\n",
    "    'MT_netMHCpan_rank': 'less',\n",
    "    'PRIME': 'less',\n",
    "    'ICERFIRE': 'less',\n",
    "    'DeepNeo': 'greater',\n",
    "    'NeoPrecis-Immuno': 'greater'\n",
    "}\n",
    "y_col = 'label'\n",
    "\n",
    "# testing set\n",
    "test_df = cedar_df[(cedar_df[['in_prime', 'in_icerfire', 'in_deepneo']] == False).all(axis=1)] # not present in other predictors' training set\n",
    "test_df = test_df[~test_df['dataset'].isin(['train', 'valid'])] # not in our training set\n",
    "test_df = test_df[test_df['MHC']=='I'] # only MHC-I\n",
    "test_df = test_df.dropna(subset=['PRIME', 'ICERFIRE', 'DeepNeo'])\n",
    "print('#Samples =', test_df.shape[0])\n",
    "\n",
    "# result\n",
    "perf_df = Performance(test_df, x_col_dict, y_col, fillna=False) # performance\n",
    "print(perf_df)\n",
    "\n",
    "# bootstrapping\n",
    "bstp_df = Bootstrapping(test_df, x_col_dict, y_col, fillna=False, n_iter=1000)"
   ]
  },
  {
   "cell_type": "code",
   "execution_count": null,
   "id": "7c0a54e8-85b0-422f-8d36-cda31a5f7b97",
   "metadata": {
    "scrolled": true
   },
   "outputs": [],
   "source": [
    "# plot - AUROC\n",
    "\n",
    "metric = 'AUROC'\n",
    "\n",
    "# df\n",
    "plot_df = bstp_df.copy()\n",
    "plot_df['Model'] = plot_df['Model'].replace({'MT_netMHCpan_rank': 'NetMHCpan', 'NeoPrecis-Immuno': 'NP-Immuno'})\n",
    "\n",
    "# plot\n",
    "order_list = ['NP-Immuno', 'NetMHCpan', 'DeepNeo', 'PRIME', 'ICERFIRE']\n",
    "fig, ax = plt.subplots(1, 1, figsize=(3, 3), dpi=dpi)\n",
    "g = sns.boxplot(data=plot_df, x='Model', y=metric, order=order_list, ax=ax)\n",
    "ax.tick_params(axis='x', rotation=60)\n",
    "_ = ax.set_xlabel('')\n",
    "\n",
    "# color\n",
    "for i, patch in enumerate(g.patches):\n",
    "    patch.set_facecolor(metric_color_dict[order_list[i]])\n",
    "\n",
    "# save\n",
    "fig.tight_layout()"
   ]
  },
  {
   "cell_type": "code",
   "execution_count": null,
   "id": "44ebe41c-dfb8-47fa-977b-0fc5a95314dc",
   "metadata": {},
   "outputs": [],
   "source": [
    "# plot - AUPRC\n",
    "\n",
    "metric = 'AUPRC'\n",
    "\n",
    "# df\n",
    "plot_df = bstp_df.copy()\n",
    "plot_df['Model'] = plot_df['Model'].replace({'MT_netMHCpan_rank': 'NetMHCpan', 'NeoPrecis-Immuno': 'NP-Immuno'})\n",
    "\n",
    "# plot\n",
    "order_list = ['NP-Immuno', 'NetMHCpan', 'DeepNeo', 'PRIME', 'ICERFIRE']\n",
    "fig, ax = plt.subplots(1, 1, figsize=(3, 3), dpi=dpi)\n",
    "g = sns.boxplot(data=plot_df, x='Model', y=metric, order=order_list, ax=ax)\n",
    "ax.tick_params(axis='x', rotation=60)\n",
    "_ = ax.set_xlabel('')\n",
    "\n",
    "# color\n",
    "for i, patch in enumerate(g.patches):\n",
    "    patch.set_facecolor(metric_color_dict[order_list[i]])\n",
    "\n",
    "# save\n",
    "fig.tight_layout()"
   ]
  },
  {
   "cell_type": "markdown",
   "id": "c49bdd4a-3652-4e69-be21-2cc22c16bc09",
   "metadata": {},
   "source": [
    "### Validation on the NCI dataset"
   ]
  },
  {
   "cell_type": "code",
   "execution_count": null,
   "id": "d2563c84-436c-49bb-8abc-b3513acc1e0f",
   "metadata": {},
   "outputs": [],
   "source": [
    "# load NCI data\n",
    "\n",
    "nci_file = 'TableS3.csv'  # fill in the path of TableS3.csv\n",
    "nci_df = pd.read_csv(nci_file)"
   ]
  },
  {
   "cell_type": "code",
   "execution_count": null,
   "id": "1006fbe4-dce1-4d9f-98fa-8d64548eb90b",
   "metadata": {},
   "outputs": [],
   "source": [
    "# filtered by abundance and presentation\n",
    "def NCI_comparison(mut_df, mhc, x_cols, y_col, dropna=False):\n",
    "    # x_cols\n",
    "    x_col_dict = {f'{col}-{mhc}': ('less' if col in ['PHBR', 'PRIME', 'ICERFIRE'] else 'greater') for col in x_cols}\n",
    "    x_col_dict = {k:v for k,v in x_col_dict.items() if k in mut_df.columns}\n",
    "\n",
    "    # filtering\n",
    "    print('#Samples =', mut_df.shape[0])\n",
    "    filter_mut_df = mut_df[(mut_df['DNA_AF']>0) & (mut_df['RNA_AF']>0) & (mut_df['RNA_EXP_QRT']>1)] # filter by expression\n",
    "    print('Filtered by abundance =', filter_mut_df.shape[0])\n",
    "    filter_mut_df = filter_mut_df[filter_mut_df['Consequence']=='missense_variant'] # focus on substitutions\n",
    "    print('Filtered by SNVs =', filter_mut_df.shape[0])\n",
    "    filter_mut_df = filter_mut_df.dropna(subset=[f'PHBR-{mhc}']) # drop invalid mutations\n",
    "    print('Filtered by valid PHBR =', filter_mut_df.shape[0])\n",
    "    filter_mut_df = filter_mut_df[filter_mut_df[f'Robustness-{mhc}']>0]\n",
    "    print('Filtered by robustness>0 =', filter_mut_df.shape[0])\n",
    "    if dropna:\n",
    "        cols = list(x_col_dict.keys()) + [y_col,]\n",
    "        filter_mut_df = filter_mut_df.dropna(subset=cols) # drop NA\n",
    "        print('Filtered by NA =', filter_mut_df.shape[0])\n",
    "\n",
    "    # validation\n",
    "    results = Performance(filter_mut_df, x_col_dict, y_col, fillna=True)\n",
    "\n",
    "    return filter_mut_df, results"
   ]
  },
  {
   "cell_type": "code",
   "execution_count": null,
   "id": "df793ddd-319c-4ce5-993f-9af9dc15869b",
   "metadata": {
    "scrolled": true
   },
   "outputs": [],
   "source": [
    "### comparing with other methods\n",
    "# drop NA\n",
    "\n",
    "methods = ['NP-Immuno', 'PHBR', 'DeepNeo', 'PRIME', 'ICERFIRE']\n",
    "\n",
    "print('===MHCI===')\n",
    "mhci_filter_mut_df, mhci_results = NCI_comparison(nci_df, 'I', methods, 'CD8', dropna=True) # drop NA to ensure all samples with predictions\n",
    "print('===MHCII===')\n",
    "mhcii_filter_mut_df, mhcii_results = NCI_comparison(nci_df, 'II', methods, 'CD4', dropna=True)\n",
    "\n",
    "# AUROC\n",
    "metric = 'AUROC'\n",
    "TwoPerfBarPlot(mhci_results, mhcii_results, methods, metric, palette=metric_color_dict, hue_order=methods, figsize=(4,3))\n",
    "\n",
    "# AUPRC\n",
    "metric = 'AUPRC'\n",
    "TwoPerfBarPlot(mhci_results, mhcii_results, methods, metric, palette=metric_color_dict, hue_order=methods, figsize=(4,3))"
   ]
  },
  {
   "cell_type": "code",
   "execution_count": null,
   "id": "685884af-1ac4-4d35-a710-9c9b0ff88f70",
   "metadata": {},
   "outputs": [],
   "source": [
    "### component contribution\n",
    "# fill NA with 0\n",
    "\n",
    "methods = ['BLOSUMDist', 'SubDist', 'SubPosDist', 'GeoDist', 'CRD']\n",
    "metric = 'AUROC'\n",
    "\n",
    "print('===MHCI===')\n",
    "mhci_filter_mut_df, mhci_results = NCI_comparison(nci_df, 'I', methods, 'CD8', dropna=False)\n",
    "print('===MHCII===')\n",
    "mhcii_filter_mut_df, mhcii_results = NCI_comparison(nci_df, 'II', methods, 'CD4', dropna=False)\n",
    "\n",
    "TwoPerfBarPlot(mhci_results, mhcii_results, methods, metric, palette='pastel', figsize=(7,3), annot=True)"
   ]
  }
 ],
 "metadata": {
  "kernelspec": {
   "display_name": "Python 3 (ipykernel)",
   "language": "python",
   "name": "python3"
  },
  "language_info": {
   "codemirror_mode": {
    "name": "ipython",
    "version": 3
   },
   "file_extension": ".py",
   "mimetype": "text/x-python",
   "name": "python",
   "nbconvert_exporter": "python",
   "pygments_lexer": "ipython3",
   "version": "3.12.11"
  }
 },
 "nbformat": 4,
 "nbformat_minor": 5
}
