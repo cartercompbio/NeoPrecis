{
 "cells": [
  {
   "cell_type": "markdown",
   "id": "4d7d0ffb-fb71-410b-9978-40900eefa37b",
   "metadata": {},
   "source": [
    "## Immunotherapy Response Prediction\n",
    "\n",
    "This notebook is for immunotherapy response prediction. \n",
    "\n",
    "The data is presented in Table S7, and the results are shown in Figure 5-6."
   ]
  },
  {
   "cell_type": "code",
   "execution_count": null,
   "id": "2497aff1-4f51-465e-b164-b2b5494f8117",
   "metadata": {},
   "outputs": [],
   "source": [
    "from ici_utils import *\n",
    "\n",
    "dpi = 600"
   ]
  },
  {
   "cell_type": "code",
   "execution_count": null,
   "id": "dcce1caa-571b-4790-a890-619ad67fbe12",
   "metadata": {},
   "outputs": [],
   "source": [
    "### loading\n",
    "\n",
    "ici_file = 'TableS7.csv' # fill in the path of TableS7.csv\n",
    "ici_df = pd.read_csv(ici_file)\n",
    "\n",
    "label_col = 'ICI response'"
   ]
  },
  {
   "cell_type": "markdown",
   "id": "0a8f2083-417b-4116-a260-c49e33cc7132",
   "metadata": {},
   "source": [
    "### Allele benefit scores"
   ]
  },
  {
   "cell_type": "code",
   "execution_count": null,
   "id": "39900ae8-2d9d-4635-bfab-0945da69c7c4",
   "metadata": {},
   "outputs": [],
   "source": [
    "### Cox model\n",
    "\n",
    "# arguments\n",
    "cancers = ['melanoma', 'NSCLC']\n",
    "confounders = ['sex', 'age']\n",
    "metrics = ['benefitScore_I', 'benefitScore_II', 'benefitScore_dual', 'logTMB', 'combinedScore']\n",
    "method_rename_dict = {'benefitScore_I':'benefitScore-I', 'benefitScore_II':'benefitScore-II', 'benefitScore_dual':'benefitScore-dual'}\n",
    "\n",
    "# duplicate columns (because \"-\" is not a valid symbol in Cox model function)\n",
    "ici_df['benefitScore_I'] = ici_df['benefitScore-I']\n",
    "ici_df['benefitScore_II'] = ici_df['benefitScore-II']\n",
    "ici_df['benefitScore_dual'] = ici_df['benefitScore-dual']\n",
    "\n",
    "# plot\n",
    "fig, ax = plt.subplots(1, 2, figsize=(7, 3), dpi=dpi)\n",
    "for idx, cancer in enumerate(cancers):\n",
    "    event = 'OS' if cancer == 'melanoma' else 'PFS'\n",
    "    duration = f'{event}.time'\n",
    "    cancer_df = ici_df[ici_df['cancer']==cancer] # specific cancer\n",
    "    cancer_df = cancer_df.dropna(subset=[duration, event] + confounders) # drop NA\n",
    "    print(f'#Samples in {cancer} =', cancer_df.shape[0])\n",
    "    HRPlot(cancer_df, metrics, confounder_cols=confounders, duration_col=duration,\n",
    "           method_rename_dict=method_rename_dict, event_col=event, ax=ax[idx])\n",
    "    ax[idx].set_title(cancer)\n",
    "    ax[idx].set_xlabel('')\n",
    "ax[1].set_yticklabels('')\n",
    "fig.supxlabel('Hazard Ratio (95% CI)')\n",
    "fig.tight_layout()"
   ]
  },
  {
   "cell_type": "markdown",
   "id": "4207750e-c62c-48a8-8f86-3a7fd9adcb84",
   "metadata": {},
   "source": [
    "### Neoantigen landscape w/o tumor clonality"
   ]
  },
  {
   "cell_type": "code",
   "execution_count": null,
   "id": "7acabfed-51ed-4d12-badc-7135f5fd4c63",
   "metadata": {
    "scrolled": true
   },
   "outputs": [],
   "source": [
    "### burden\n",
    "\n",
    "x_cols = ['TMB', 'TNB', 'NP-Immuno-dual.burden']\n",
    "method_rename_dict = {'TMB': 'TMB', 'TNB': 'TNB', 'NP-Immuno-dual.burden': 'NPB'}\n",
    "\n",
    "# box plot\n",
    "fig, ax = plt.subplots(1, 2, figsize=(10, 3), dpi=dpi)\n",
    "BurdenBoxPlot(ici_df, x_cols, label_col, 'melanoma', method_rename_dict=method_rename_dict, ax=ax[0], legend=False) # melanoma\n",
    "BurdenBoxPlot(ici_df, x_cols, label_col, 'NSCLC', method_rename_dict=method_rename_dict, ax=ax[1]) # NSCLC\n",
    "fig.tight_layout()\n",
    "\n",
    "# bar plot for Cliff's delta\n",
    "fig, ax = plt.subplots(1, 1, figsize=(3, 3), dpi=dpi)\n",
    "BurdenCliffPlot(ici_df, x_cols, label_col, ['melanoma', 'NSCLC'], method_rename_dict=method_rename_dict, ax=ax)\n",
    "fig.tight_layout()"
   ]
  },
  {
   "cell_type": "code",
   "execution_count": null,
   "id": "a8007c33-7832-4ee9-98ed-4bdc2bf6d643",
   "metadata": {},
   "outputs": [],
   "source": [
    "### performance\n",
    "\n",
    "# compute performance\n",
    "x_cols = ['TMB', 'TNB', 'NP-LandscapeSum', 'NP-LandscapeSum(Integrated)']\n",
    "perf_df = MetricPerformance(ici_df, x_cols, label_col, group_col='cancer')\n",
    "\n",
    "# plot\n",
    "x_cols = ['TMB', 'TNB', 'NP-LandscapeSum']\n",
    "method_rename_dict = {'TMB': 'TMB', 'TNB': 'TNB', 'NP-LandscapeSum': 'NP-Sum', 'NP-LandscapeSum(Integrated)': 'NP-Integrated'}\n",
    "\n",
    "fig, ax = plt.subplots(1, 3, figsize=(12, 3), dpi=dpi, gridspec_kw={'width_ratios': [2, 1, 1]})\n",
    "PerformanceBarPlot(perf_df, 'AUROC', ax=ax[0], method_rename_dict=method_rename_dict, ncol=4) # bar plot\n",
    "ROCCurve(ici_df, x_cols, label_col, 'melanoma', method_rename_dict=method_rename_dict, ax=ax[1]) # ROC curve for melanoma\n",
    "ROCCurve(ici_df, x_cols, label_col, 'NSCLC', method_rename_dict=method_rename_dict, ax=ax[2]) # ROC curve for NSCLC\n",
    "\n",
    "fig.tight_layout()"
   ]
  },
  {
   "cell_type": "code",
   "execution_count": null,
   "id": "7dcf97c0-569d-473c-9e89-51b0a5550da7",
   "metadata": {},
   "outputs": [],
   "source": [
    "### comparison between I, II, and dual\n",
    "\n",
    "x_cols = ['NP-LandscapeSum-I', 'NP-LandscapeSum-II', 'NP-LandscapeSum']\n",
    "perf_df = MetricPerformance(ici_df, x_cols, label_col, group_col='cancer')\n",
    "\n",
    "method_rename_dict={'NP-LandscapeSum-I': 'MHC-I', 'NP-LandscapeSum-II': 'MHC-II', 'NP-LandscapeSum': 'MHC-dual'}\n",
    "PerformanceBarPlot(perf_df, 'AUROC', method_rename_dict=method_rename_dict, figsize=(5,3)) # bar plot"
   ]
  },
  {
   "cell_type": "code",
   "execution_count": null,
   "id": "cb47a633-1815-4a66-8f3e-6d0bd446fc10",
   "metadata": {},
   "outputs": [],
   "source": [
    "### survival curve\n",
    "\n",
    "tasks = [\n",
    "    ('melanoma', 'OS', 'OS.time', 'TMB'),\n",
    "    ('melanoma', 'OS', 'OS.time', 'NP-LandscapeSum'),\n",
    "    ('NSCLC', 'PFS', 'PFS.time', 'TMB'),\n",
    "    ('NSCLC', 'PFS', 'PFS.time', 'NP-LandscapeSum'),\n",
    "]\n",
    "method_rename_dict = {'TMB': 'TMB', 'TNB': 'TNB', 'NP-LandscapeSum(Integrated)': 'NP-Integrated'}\n",
    "\n",
    "fig, ax = plt.subplots(1, 4, figsize=(16, 3), dpi=dpi)\n",
    "for i, task in enumerate(tasks):\n",
    "    cancer, event, duration, method = task\n",
    "    SurvivalCurvePlot(ici_df, method, cancer, event_col=event, duration_col=duration,\n",
    "                      method_rename_dict=method_rename_dict, ax=ax[i])\n",
    "    \n",
    "fig.tight_layout()"
   ]
  },
  {
   "cell_type": "markdown",
   "id": "40ae3c88-cd21-443b-8d3e-4deeb02b6d85",
   "metadata": {},
   "source": [
    "### Clonal analysis"
   ]
  },
  {
   "cell_type": "code",
   "execution_count": null,
   "id": "36fc380e-9a66-47f0-8be0-35814120753c",
   "metadata": {},
   "outputs": [],
   "source": [
    "### sGini vs. pGini\n",
    "\n",
    "g = sns.JointGrid(data=ici_df, x='sGini', y='pGini', hue='cancer', height=4, ratio=4)\n",
    "\n",
    "# Scatterplot with color (hue) and shape\n",
    "sns.scatterplot(\n",
    "    data=ici_df,\n",
    "    x='sGini',\n",
    "    y='pGini',\n",
    "    hue='cancer',\n",
    "    style=label_col,\n",
    "    ax=g.ax_joint,\n",
    "    s=10\n",
    ")\n",
    "\n",
    "# Add vertical and horizontal median lines for each hue\n",
    "for category in ici_df['cancer'].unique():\n",
    "    subset = ici_df[ici_df['cancer'] == category]\n",
    "    median_x = subset['sGini'].median()\n",
    "    median_y = subset['pGini'].median()\n",
    "    g.ax_joint.axvline(median_x, color=sns.color_palette()[ici_df['cancer'].unique().tolist().index(category)],\n",
    "                       linestyle='--', alpha=0.5, lw=0.5, label='')\n",
    "    g.ax_joint.axhline(median_y, color=sns.color_palette()[ici_df['cancer'].unique().tolist().index(category)],\n",
    "                       linestyle='-.', alpha=0.5, lw=0.5, label='')\n",
    "\n",
    "# Add marginal plots\n",
    "sns.histplot(data=ici_df, x='sGini', hue='cancer', stat='probability', common_norm=False, ax=g.ax_marg_x, bins=30, element='step', legend=False)\n",
    "sns.histplot(data=ici_df, y='pGini', hue='cancer', stat='probability', common_norm=False, ax=g.ax_marg_y, bins=30, element='step', legend=False)\n",
    "\n",
    "# Adjust legend\n",
    "handles, labels = g.ax_joint.get_legend_handles_labels()\n",
    "handles = handles[1:3] + handles[4:6]\n",
    "labels = labels[1:3] + labels[4:6]\n",
    "labels = [s.replace('0', 'Negative').replace('1', 'Positive') for s in labels]\n",
    "legend = g.ax_joint.legend(handles, labels, title='', bbox_to_anchor=(-.2, 1.1), loc='lower left', ncol=2, fontsize=8)\n",
    "g.fig.add_artist(legend)"
   ]
  },
  {
   "cell_type": "code",
   "execution_count": null,
   "id": "a393ac8b-6cb2-4f39-9738-9f4641f98395",
   "metadata": {},
   "outputs": [],
   "source": [
    "### smoking status\n",
    "\n",
    "nsclc_df = ici_df[ici_df['cancer']=='NSCLC']\n",
    "hue_order = ['never', 'former', 'current']\n",
    "\n",
    "\n",
    "# clonal ratio\n",
    "fig, ax = plt.subplots(1, 1, figsize=(5, 3), dpi=dpi)\n",
    "sns.kdeplot(data=ici_df, x='%ClonalMuts', hue='smoking_status', hue_order=hue_order,\n",
    "            common_norm=False, clip=(0, 1), fill=True, ax=ax)\n",
    "sns.move_legend(ax, loc='lower left', bbox_to_anchor=(0, 1), title='', ncol=3)\n",
    "fig.tight_layout()\n",
    "\n",
    "# binding ratio\n",
    "fig, ax = plt.subplots(1, 1, figsize=(5, 3), dpi=dpi)\n",
    "sns.kdeplot(data=ici_df, x='%Binding-I', hue='smoking_status', hue_order=hue_order,\n",
    "            common_norm=False, clip=(0, 1), fill=True, ax=ax)\n",
    "sns.move_legend(ax, loc='upper left', bbox_to_anchor=(0, 1))\n",
    "fig.tight_layout()"
   ]
  },
  {
   "cell_type": "code",
   "execution_count": null,
   "id": "a176d213-8e92-47b3-8d75-9341de1d5bf6",
   "metadata": {},
   "outputs": [],
   "source": [
    "### melanoma vs. NSCLC\n",
    "\n",
    "# clonal ratio\n",
    "fig, ax = plt.subplots(1, 1, figsize=(5, 3), dpi=dpi)\n",
    "sns.kdeplot(data=ici_df, x='%ClonalMuts', hue='cancer',\n",
    "            common_norm=False, clip=(0, 1), fill=True, ax=ax)\n",
    "sns.move_legend(ax, loc='upper left', bbox_to_anchor=(0, 1))\n",
    "fig.tight_layout()\n",
    "\n",
    "# binding ratio\n",
    "fig, ax = plt.subplots(1, 1, figsize=(5, 3), dpi=dpi)\n",
    "sns.kdeplot(data=ici_df, x='%Binding-I', hue='cancer',\n",
    "            common_norm=False, clip=(0, 1), fill=True, ax=ax)\n",
    "sns.move_legend(ax, loc='upper left', bbox_to_anchor=(0, 1))\n",
    "fig.tight_layout()"
   ]
  },
  {
   "cell_type": "markdown",
   "id": "c6e830af-376d-4316-9d11-cb350b090088",
   "metadata": {},
   "source": [
    "### Neoantigen landscape w/ tumor clonality"
   ]
  },
  {
   "cell_type": "code",
   "execution_count": null,
   "id": "d5fbd92c-4a92-41a8-9a8b-f4d30d8f6418",
   "metadata": {},
   "outputs": [],
   "source": [
    "### performance\n",
    "\n",
    "x_cols = ['TMB','TNB', 'CSiN', 'ioTNL', 'NP-LandscapeSum', 'NP-LandscapeCCF', 'NP-LandscapeClone']\n",
    "perf_df = MetricPerformance(ici_df, x_cols, label_col, group_col='cancer')\n",
    "method_rename_dict = {\n",
    "    'NP-LandscapeSum': 'NP-Sum',\n",
    "    'NP-LandscapeCCF': 'NP-CCF',\n",
    "    'NP-LandscapeClone': 'NP-Clone'\n",
    "}\n",
    "\n",
    "fig, ax = plt.subplots(1, 3, figsize=(16, 3), dpi=dpi, gridspec_kw={'width_ratios': [2, 1, 1]})\n",
    "PerformanceBarPlot(perf_df, 'AUROC', ax=ax[0], method_rename_dict=method_rename_dict, ncol=4) # bar plot\n",
    "ROCCurve(ici_df, x_cols, label_col, 'melanoma', method_rename_dict=method_rename_dict, ax=ax[1]) # ROC curve for melanoma\n",
    "ROCCurve(ici_df, x_cols, label_col, 'NSCLC', method_rename_dict=method_rename_dict, ax=ax[2]) # ROC curve for NSCLC\n",
    "\n",
    "fig.tight_layout()"
   ]
  },
  {
   "cell_type": "code",
   "execution_count": null,
   "id": "02fb220e-2d62-494c-84e8-b57ae7b63aa0",
   "metadata": {},
   "outputs": [],
   "source": [
    "### group by heterogeneity\n",
    "\n",
    "split_col1 = 'sGini'\n",
    "split_col2 = 'pGini'\n",
    "\n",
    "# performance\n",
    "x_cols = ['TMB', 'CSiN', 'ioTNL', 'NP-LandscapeSum', 'NP-LandscapeCCF', 'NP-LandscapeClone']\n",
    "method_rename_dict = {}\n",
    "perf_df = FourGroupsPerf(ici_df, split_col1, split_col2, x_cols, label_col)\n",
    "\n",
    "# plot\n",
    "fig, ax = plt.subplots(2, 1, figsize=(12, 6), dpi=dpi)\n",
    "cancers = perf_df['cancer'].unique().tolist()\n",
    "for i, cancer in enumerate(cancers):\n",
    "    tmp_perf_df = perf_df[perf_df['cancer']==cancer]\n",
    "    PerformanceBarPlot(tmp_perf_df, 'AUROC', group_col='group', ax=ax[i], method_rename_dict=method_rename_dict, ncol=6)\n",
    "    ax[i].set_title(cancer, loc='left')\n",
    "ax[0].set_xticklabels('')\n",
    "ax[1].set_xticklabels(['low sGini - low pGini',\n",
    "                       'low sGini - high pGini',\n",
    "                       'high sGini - low pGini',\n",
    "                       'high sGini - high pGini'])\n",
    "ax[1].get_legend().remove()\n",
    "fig.tight_layout()"
   ]
  },
  {
   "cell_type": "markdown",
   "id": "3634591b-7148-46a3-9d82-d990a1c72101",
   "metadata": {},
   "source": [
    "### Smoking status"
   ]
  },
  {
   "cell_type": "code",
   "execution_count": null,
   "id": "8d99a376-bc2f-475e-8671-82c0500171c0",
   "metadata": {},
   "outputs": [],
   "source": [
    "### NSCLC data\n",
    "\n",
    "cancer_df = ici_df[ici_df['cancer']=='NSCLC']\n",
    "smoking_order = ['never', 'former', 'current']"
   ]
  },
  {
   "cell_type": "code",
   "execution_count": null,
   "id": "4995cbff-d9bd-4bbe-8808-a41938d10f5c",
   "metadata": {},
   "outputs": [],
   "source": [
    "### TMB\n",
    "\n",
    "fig, ax = plt.subplots(1, 1, figsize=(3, 4), dpi=dpi)\n",
    "sns.barplot(data=cancer_df, x='smoking_status', y='TMB', hue='smoking_status',\n",
    "            hue_order=smoking_order, order=smoking_order, palette='muted', ax=ax)\n",
    "fig.tight_layout()"
   ]
  },
  {
   "cell_type": "code",
   "execution_count": null,
   "id": "42d87785-452e-4f84-b8ee-d69820ae29f6",
   "metadata": {},
   "outputs": [],
   "source": [
    "### heterogeneity\n",
    "\n",
    "fig, ax = plt.subplots(1, 1, figsize=(4,4), dpi=dpi)\n",
    "sns.histplot(data=cancer_df, x='heterogeneity_group', hue='smoking_status', hue_order=smoking_order, multiple='fill', palette='muted', ax=ax)\n",
    "ax.set_xlabel('')\n",
    "ax.set_ylabel('Proportion')\n",
    "ax.tick_params(axis='x', rotation=90)\n",
    "sns.move_legend(ax, loc='center left', bbox_to_anchor=(1, 0.5))\n",
    "fig.tight_layout()"
   ]
  },
  {
   "cell_type": "code",
   "execution_count": null,
   "id": "15d00f9b-fc0c-4090-bf43-9e210fa8be24",
   "metadata": {},
   "outputs": [],
   "source": [
    "### immunotherapy prediction performance\n",
    "\n",
    "x_cols = ['TMB', 'CSiN', 'ioTNL', 'NP-LandscapeSum', 'NP-LandscapeCCF', 'NP-LandscapeClone']\n",
    "\n",
    "perf_df = pd.DataFrame()\n",
    "for smoke in smoking_order:\n",
    "    tmp_df = cancer_df[cancer_df['smoking_status']==smoke]\n",
    "    tmp_perf_df = MetricPerformance(tmp_df, x_cols, label_col)\n",
    "    tmp_perf_df['smoking_status'] = smoke\n",
    "    perf_df = pd.concat([perf_df, tmp_perf_df], axis=0)\n",
    "\n",
    "# plot\n",
    "fig, ax = plt.subplots(1, 1, figsize=(3, 4), dpi=dpi)\n",
    "sns.barplot(data=perf_df, x='smoking_status', y='AUROC', hue='method', palette='pastel', ax=ax)\n",
    "sns.move_legend(ax, title='', ncol=1, loc='lower center', bbox_to_anchor=(0.5, 1))\n",
    "fig.tight_layout()"
   ]
  }
 ],
 "metadata": {
  "kernelspec": {
   "display_name": "Python 3 (ipykernel)",
   "language": "python",
   "name": "python3"
  },
  "language_info": {
   "codemirror_mode": {
    "name": "ipython",
    "version": 3
   },
   "file_extension": ".py",
   "mimetype": "text/x-python",
   "name": "python",
   "nbconvert_exporter": "python",
   "pygments_lexer": "ipython3",
   "version": "3.12.11"
  }
 },
 "nbformat": 4,
 "nbformat_minor": 5
}
